{
 "cells": [
  {
   "cell_type": "code",
   "execution_count": 1,
   "id": "8eb1aae8-8c9b-4258-8f5d-7abb1f96890e",
   "metadata": {},
   "outputs": [
    {
     "ename": "ERROR",
     "evalue": "Error in parse(text = x, srcfile = src): <text>:1:15: unexpected ','\n1: Authors: Ciara,\n                  ^\n",
     "output_type": "error",
     "traceback": [
      "Error in parse(text = x, srcfile = src): <text>:1:15: unexpected ','\n1: Authors: Ciara,\n                  ^\nTraceback:\n"
     ]
    }
   ],
   "source": [
    "Authors: Ciara, Colin, Soham"
   ]
  },
  {
   "cell_type": "code",
   "execution_count": null,
   "id": "a579183b-2128-409c-9755-87bd1179c2ad",
   "metadata": {},
   "outputs": [],
   "source": []
  }
 ],
 "metadata": {
  "kernelspec": {
   "display_name": "R",
   "language": "R",
   "name": "ir"
  },
  "language_info": {
   "codemirror_mode": "r",
   "file_extension": ".r",
   "mimetype": "text/x-r-source",
   "name": "R",
   "pygments_lexer": "r",
   "version": "4.1.3"
  }
 },
 "nbformat": 4,
 "nbformat_minor": 5
}
