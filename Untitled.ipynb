{
 "cells": [
  {
   "cell_type": "code",
   "execution_count": 1,
   "id": "7b1dbee2-6bec-4158-abd6-d7c978f792a4",
   "metadata": {},
   "outputs": [
    {
     "ename": "ERROR",
     "evalue": "Error in parse(text = x, srcfile = src): <text>:1:14: unexpected ','\n1: author: Ciara,\n                 ^\n",
     "output_type": "error",
     "traceback": [
      "Error in parse(text = x, srcfile = src): <text>:1:14: unexpected ','\n1: author: Ciara,\n                 ^\nTraceback:\n"
     ]
    }
   ],
   "source": [
    "author: Ciara, Colin, Sohan"
   ]
  },
  {
   "cell_type": "code",
   "execution_count": null,
   "id": "f173671f-b707-49dd-9d75-d7a8029e94df",
   "metadata": {},
   "outputs": [],
   "source": []
  }
 ],
 "metadata": {
  "kernelspec": {
   "display_name": "R",
   "language": "R",
   "name": "ir"
  },
  "language_info": {
   "codemirror_mode": "r",
   "file_extension": ".r",
   "mimetype": "text/x-r-source",
   "name": "R",
   "pygments_lexer": "r",
   "version": "4.1.3"
  }
 },
 "nbformat": 4,
 "nbformat_minor": 5
}
